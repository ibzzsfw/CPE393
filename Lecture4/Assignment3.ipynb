{
 "cells": [
  {
   "cell_type": "markdown",
   "id": "3ad299b2",
   "metadata": {},
   "source": [
    "# Assignment#3 - Lecture4\n",
    "## Suppakorn Rakna (63070501061)\n",
    "### Description\n",
    "#### Study more on Quantum Gates and build a quantum circuits with Forest\n",
    "- “The output of X gate is similar to the output of Hadamard-Z-Hadamard gates.”\n",
    "- Build circuits to prove above sentence and discuss  why both operations show the same result."
   ]
  },
  {
   "cell_type": "markdown",
   "id": "5bdbef42",
   "metadata": {},
   "source": [
    "#### import"
   ]
  },
  {
   "cell_type": "code",
   "execution_count": 1,
   "id": "1bc40e95",
   "metadata": {},
   "outputs": [],
   "source": [
    "from pyquil import Program # To compose Quil programs.\n",
    "from pyquil.gates import * # All standard gates\n",
    "from pyquil.compatibility.v2.api import get_qc"
   ]
  },
  {
   "cell_type": "markdown",
   "id": "9ea29566",
   "metadata": {},
   "source": [
    "#### The output of X gate"
   ]
  },
  {
   "cell_type": "code",
   "execution_count": 2,
   "id": "78dcc829",
   "metadata": {},
   "outputs": [
    {
     "name": "stdout",
     "output_type": "stream",
     "text": [
      "X 0\n",
      "\n"
     ]
    }
   ],
   "source": [
    "p_X = Program(X(0))\n",
    "qc = get_qc('5q-qvm')\n",
    "print(p_X)"
   ]
  },
  {
   "cell_type": "code",
   "execution_count": 3,
   "id": "463974bc",
   "metadata": {},
   "outputs": [
    {
     "name": "stdout",
     "output_type": "stream",
     "text": [
      "{0: array([1, 1, 1, ..., 1, 1, 1]), 1: array([0., 0., 0., ..., 0., 0., 0.]), 2: array([0., 0., 0., ..., 0., 0., 0.]), 3: array([0., 0., 0., ..., 0., 0., 0.]), 4: array([0., 0., 0., ..., 0., 0., 0.])}\n"
     ]
    }
   ],
   "source": [
    "result_X = qc.run_and_measure(p_X, trials=1024)\n",
    "print(result_X)"
   ]
  },
  {
   "cell_type": "code",
   "execution_count": 4,
   "id": "96a2f405",
   "metadata": {},
   "outputs": [
    {
     "name": "stdout",
     "output_type": "stream",
     "text": [
      "[1 1 1 ... 1 1 1]\n",
      "[0. 0. 0. ... 0. 0. 0.]\n"
     ]
    }
   ],
   "source": [
    "print(result_X[0])\n",
    "print(result_X[1])"
   ]
  },
  {
   "cell_type": "markdown",
   "id": "3c0a8634",
   "metadata": {},
   "source": [
    "#### the output of Hadamard-Z-Hadamard gates"
   ]
  },
  {
   "cell_type": "code",
   "execution_count": 5,
   "id": "80566ea8",
   "metadata": {},
   "outputs": [],
   "source": [
    "p_HZH = Program(H(0), Z(0), H(0))\n",
    "qc = get_qc('5q-qvm')"
   ]
  },
  {
   "cell_type": "code",
   "execution_count": 6,
   "id": "faf9351c",
   "metadata": {},
   "outputs": [
    {
     "name": "stdout",
     "output_type": "stream",
     "text": [
      "{0: array([1, 1, 1, ..., 1, 1, 1]), 1: array([0., 0., 0., ..., 0., 0., 0.]), 2: array([0., 0., 0., ..., 0., 0., 0.]), 3: array([0., 0., 0., ..., 0., 0., 0.]), 4: array([0., 0., 0., ..., 0., 0., 0.])}\n"
     ]
    }
   ],
   "source": [
    "result_HZH = qc.run_and_measure(p_HZH, trials=1024)\n",
    "print(result_HZH)"
   ]
  },
  {
   "cell_type": "code",
   "execution_count": 7,
   "id": "9cd51f5f",
   "metadata": {},
   "outputs": [
    {
     "name": "stdout",
     "output_type": "stream",
     "text": [
      "[1 1 1 ... 1 1 1]\n",
      "[0. 0. 0. ... 0. 0. 0.]\n"
     ]
    }
   ],
   "source": [
    "print(result_HZH[0])\n",
    "print(result_HZH[1])"
   ]
  },
  {
   "cell_type": "markdown",
   "id": "7444815e",
   "metadata": {},
   "source": [
    "### Comparison"
   ]
  },
  {
   "cell_type": "code",
   "execution_count": 33,
   "id": "92d51b4c",
   "metadata": {
    "scrolled": true
   },
   "outputs": [
    {
     "name": "stdout",
     "output_type": "stream",
     "text": [
      "M(0)X(0):    [1 1 1 ... 1 1 1]\n",
      "M(1)X(0):    [0. 0. 0. ... 0. 0. 0.]\n",
      "M(0)HZH(0):  [1 1 1 ... 1 1 1]\n",
      "M(1)HZH(0):  [0. 0. 0. ... 0. 0. 0.]\n"
     ]
    }
   ],
   "source": [
    "print('M(0)X(0):   ', result_X[0])\n",
    "print('M(1)X(0):   ', result_X[1])\n",
    "print('M(0)HZH(0): ', result_HZH[0])\n",
    "print('M(1)HZH(0): ', result_HZH[1])"
   ]
  },
  {
   "cell_type": "markdown",
   "id": "9d8d6a0f",
   "metadata": {},
   "source": [
    "#### Pauli-Z acting on Qubit\n",
    "Without considering phase, we see that Z -gate appears to have no effect on our qubit when it is in either of these two states (This is because the states |0> and |1> are the two eigenstates of the Z-gate)."
   ]
  },
  {
   "cell_type": "code",
   "execution_count": 14,
   "id": "7d1fc9db",
   "metadata": {},
   "outputs": [],
   "source": [
    "p_Z = Program(Z(0))\n",
    "qc = get_qc('5q-qvm')\n",
    "result_Z = qc.run_and_measure(p_Z, trials=1024)"
   ]
  },
  {
   "cell_type": "code",
   "execution_count": 20,
   "id": "974664b8",
   "metadata": {},
   "outputs": [
    {
     "name": "stdout",
     "output_type": "stream",
     "text": [
      "[0 0 0 ... 0 0 0]\n",
      "[0. 0. 0. ... 0. 0. 0.]\n"
     ]
    }
   ],
   "source": [
    "print(result_Z[0])\n",
    "print(result_Z[1])"
   ]
  },
  {
   "cell_type": "markdown",
   "id": "1efb543a",
   "metadata": {},
   "source": [
    "#### Hadamard acting on Qubit"
   ]
  },
  {
   "cell_type": "markdown",
   "id": "b56df7aa",
   "metadata": {},
   "source": [
    "    Single H"
   ]
  },
  {
   "cell_type": "code",
   "execution_count": 29,
   "id": "9bfc5329",
   "metadata": {},
   "outputs": [],
   "source": [
    "p_H = Program(H(0))\n",
    "qc = get_qc('5q-qvm')\n",
    "result_H = qc.run_and_measure(p_H, trials=1024)"
   ]
  },
  {
   "cell_type": "code",
   "execution_count": 30,
   "id": "9196a5cc",
   "metadata": {},
   "outputs": [
    {
     "name": "stdout",
     "output_type": "stream",
     "text": [
      "[0 0 0 ... 0 0 1]\n",
      "[0. 0. 0. ... 0. 0. 0.]\n"
     ]
    }
   ],
   "source": [
    "print(result_H[0])\n",
    "print(result_H[1])"
   ]
  },
  {
   "cell_type": "markdown",
   "id": "f9cf24ee",
   "metadata": {},
   "source": [
    "    Double H"
   ]
  },
  {
   "cell_type": "code",
   "execution_count": 31,
   "id": "81964acd",
   "metadata": {},
   "outputs": [],
   "source": [
    "p_HH = Program(H(0), H(0))\n",
    "qc = get_qc('5q-qvm')\n",
    "result_HH = qc.run_and_measure(p_HH, trials=1024)"
   ]
  },
  {
   "cell_type": "code",
   "execution_count": 32,
   "id": "14391c67",
   "metadata": {},
   "outputs": [
    {
     "name": "stdout",
     "output_type": "stream",
     "text": [
      "[0 0 0 ... 0 0 0]\n",
      "[0. 0. 0. ... 0. 0. 0.]\n"
     ]
    }
   ],
   "source": [
    "print(result_HH[0])\n",
    "print(result_HH[1])"
   ]
  }
 ],
 "metadata": {
  "kernelspec": {
   "display_name": "Python 3",
   "language": "python",
   "name": "python3"
  },
  "language_info": {
   "codemirror_mode": {
    "name": "ipython",
    "version": 3
   },
   "file_extension": ".py",
   "mimetype": "text/x-python",
   "name": "python",
   "nbconvert_exporter": "python",
   "pygments_lexer": "ipython3",
   "version": "3.8.8"
  }
 },
 "nbformat": 4,
 "nbformat_minor": 5
}
