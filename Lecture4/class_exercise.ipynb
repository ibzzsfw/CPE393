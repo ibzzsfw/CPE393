{
 "cells": [
  {
   "cell_type": "markdown",
   "id": "e0763b8c-5032-4e6e-8e9d-be84b15a70a2",
   "metadata": {},
   "source": [
    "## Exercise 1"
   ]
  },
  {
   "cell_type": "code",
   "execution_count": 1,
   "id": "c7378818-0c56-42fd-a7bc-677d14b8d0e8",
   "metadata": {},
   "outputs": [],
   "source": [
    "from pyquil import Program\n",
    "from pyquil.gates import *\n",
    "from pyquil import get_qc"
   ]
  },
  {
   "cell_type": "code",
   "execution_count": 8,
   "id": "644f7d82-95b7-49b6-bca6-2d757e882fce",
   "metadata": {},
   "outputs": [
    {
     "name": "stdout",
     "output_type": "stream",
     "text": [
      "X 0\n",
      "CNOT 0 1\n",
      "DECLARE ro BIT[2]\n",
      "MEASURE 0 ro[0]\n",
      "MEASURE 1 ro[1]\n",
      "\n"
     ]
    }
   ],
   "source": [
    "p = Program()\n",
    "p += X(0)\n",
    "p += CNOT(0,1)\n",
    "ro = p.declare('ro','BIT',2)\n",
    "p += MEASURE(0, ro[0])\n",
    "p += MEASURE(1, ro[1])\n",
    "print(p)"
   ]
  },
  {
   "cell_type": "code",
   "execution_count": 10,
   "id": "d12d970a-69a2-4d13-ac19-831c6755c0bd",
   "metadata": {},
   "outputs": [
    {
     "name": "stdout",
     "output_type": "stream",
     "text": [
      "QAMExecutionResult(executable=<pyquil.quil.Program object at 0x7f78f4743af0>, readout_data={'ro': array([[1, 1]])})\n"
     ]
    }
   ],
   "source": [
    "qc = get_qc('5q-qvm')\n",
    "exe = qc.compile(p)\n",
    "result = qc.run(exe)\n",
    "print(result)"
   ]
  },
  {
   "cell_type": "code",
   "execution_count": 11,
   "id": "dc60e501-c160-438c-b6d1-dde924c1bc41",
   "metadata": {},
   "outputs": [
    {
     "data": {
      "text/plain": [
       "array([[1, 1]])"
      ]
     },
     "execution_count": 11,
     "metadata": {},
     "output_type": "execute_result"
    }
   ],
   "source": [
    "result.readout_data['ro']"
   ]
  },
  {
   "cell_type": "markdown",
   "id": "ae7df147-a4e4-4d5e-a143-8882bbaa2d58",
   "metadata": {},
   "source": [
    "## Exercise 1(2)"
   ]
  },
  {
   "cell_type": "code",
   "execution_count": 15,
   "id": "78139936-1b83-498b-b7bc-c16bdb8ee3f7",
   "metadata": {},
   "outputs": [
    {
     "name": "stdout",
     "output_type": "stream",
     "text": [
      "X 0\n",
      "CNOT 0 1\n",
      "DECLARE ro BIT[2]\n",
      "MEASURE 0 ro[0]\n",
      "MEASURE 1 ro[1]\n",
      "\n"
     ]
    },
    {
     "data": {
      "text/plain": [
       "<pyquil.quil.Program at 0x7f78f6abedc0>"
      ]
     },
     "execution_count": 15,
     "metadata": {},
     "output_type": "execute_result"
    }
   ],
   "source": [
    "p = Program()\n",
    "p += X(0)\n",
    "p += CNOT(0,1)\n",
    "ro = p.declare('ro','BIT',2)\n",
    "p += MEASURE(0, ro[0])\n",
    "p += MEASURE(1, ro[1])\n",
    "print(p)\n",
    "p.wrap_in_numshots_loop(10)"
   ]
  },
  {
   "cell_type": "code",
   "execution_count": 16,
   "id": "db080188-add4-4945-a62d-e1374c699f17",
   "metadata": {},
   "outputs": [
    {
     "name": "stdout",
     "output_type": "stream",
     "text": [
      "QAMExecutionResult(executable=<pyquil.quil.Program object at 0x7f78f474e850>, readout_data={'ro': array([[1, 1],\n",
      "       [1, 1],\n",
      "       [1, 1],\n",
      "       [1, 1],\n",
      "       [1, 1],\n",
      "       [1, 1],\n",
      "       [1, 1],\n",
      "       [1, 1],\n",
      "       [1, 1],\n",
      "       [1, 1]])})\n"
     ]
    }
   ],
   "source": [
    "qc = get_qc('5q-qvm')\n",
    "exe = qc.compile(p)\n",
    "result = qc.run(exe)\n",
    "print(result)"
   ]
  },
  {
   "cell_type": "code",
   "execution_count": 17,
   "id": "e4f21657-055b-4b1b-b101-c05c4ddc4ded",
   "metadata": {},
   "outputs": [
    {
     "data": {
      "text/plain": [
       "array([[1, 1],\n",
       "       [1, 1],\n",
       "       [1, 1],\n",
       "       [1, 1],\n",
       "       [1, 1],\n",
       "       [1, 1],\n",
       "       [1, 1],\n",
       "       [1, 1],\n",
       "       [1, 1],\n",
       "       [1, 1]])"
      ]
     },
     "execution_count": 17,
     "metadata": {},
     "output_type": "execute_result"
    }
   ],
   "source": [
    "result.readout_data['ro']"
   ]
  },
  {
   "cell_type": "markdown",
   "id": "6659965c-f6fa-49d3-90bc-1e5654c4c516",
   "metadata": {},
   "source": [
    "## Exercise 2"
   ]
  },
  {
   "cell_type": "markdown",
   "id": "e407be88-07ad-48b1-b85d-c780e1efe3f3",
   "metadata": {},
   "source": [
    "import compatibility v2 to use attribute run_and_measure\n",
    "\n",
    "changelog : https://pyquil-docs.rigetti.com/en/stable/changes.html  \n",
    "<b>QuantumComputer.run_and_measure()</b> has been removed. Instead, add explicit <b>MEASURE</b> instructions to programs and use <b>QuantumComputer.compile()</b> along with <b>QuantumComputer.run()</b> to compile and execute."
   ]
  },
  {
   "cell_type": "code",
   "execution_count": 18,
   "id": "bf18fe56-87d6-4916-85eb-86378f0b7e88",
   "metadata": {},
   "outputs": [],
   "source": [
    "from pyquil import Program\n",
    "from pyquil.gates import *\n",
    "\n",
    "# v3\n",
    "# from pyquil import get_qc\n",
    "\n",
    "# v2 \n",
    "from pyquil.compatibility.v2.api import get_qc "
   ]
  },
  {
   "cell_type": "code",
   "execution_count": 19,
   "id": "66dfa6b6-635f-4809-8d40-cfeb6eb7def3",
   "metadata": {},
   "outputs": [
    {
     "name": "stdout",
     "output_type": "stream",
     "text": [
      "X 0\n",
      "CNOT 0 1\n",
      "\n"
     ]
    }
   ],
   "source": [
    "p = Program(X(0),CNOT(0,1))\n",
    "qc = get_qc('5q-qvm')\n",
    "print(p)"
   ]
  },
  {
   "cell_type": "code",
   "execution_count": 20,
   "id": "0f9fb578-b1f7-4f88-b4a6-30a044ccab10",
   "metadata": {},
   "outputs": [
    {
     "name": "stdout",
     "output_type": "stream",
     "text": [
      "{0: array([1, 1, 1, 1, 1, 1, 1, 1, 1, 1]), 1: array([1, 1, 1, 1, 1, 1, 1, 1, 1, 1]), 2: array([0., 0., 0., 0., 0., 0., 0., 0., 0., 0.]), 3: array([0., 0., 0., 0., 0., 0., 0., 0., 0., 0.]), 4: array([0., 0., 0., 0., 0., 0., 0., 0., 0., 0.])}\n"
     ]
    }
   ],
   "source": [
    "result = qc.run_and_measure(p,trials=10)\n",
    "print(result)"
   ]
  },
  {
   "cell_type": "code",
   "execution_count": 21,
   "id": "12c9ccf2-be14-4dcc-9e6e-303ae9a65b68",
   "metadata": {},
   "outputs": [
    {
     "name": "stdout",
     "output_type": "stream",
     "text": [
      "[1 1 1 1 1 1 1 1 1 1]\n",
      "[1 1 1 1 1 1 1 1 1 1]\n"
     ]
    }
   ],
   "source": [
    "print(result[0])\n",
    "print(result[1])"
   ]
  },
  {
   "cell_type": "markdown",
   "id": "83401a70-c9ef-4209-a605-c4a010efc618",
   "metadata": {},
   "source": [
    "if not use compatibility v2, follow these instructions instead"
   ]
  },
  {
   "cell_type": "code",
   "execution_count": 22,
   "id": "b3f07e29-6b17-42b2-b0b3-a3169376c223",
   "metadata": {},
   "outputs": [],
   "source": [
    "# complie = qc.compile(p)\n",
    "# result = qc.run(complie)"
   ]
  },
  {
   "cell_type": "code",
   "execution_count": null,
   "id": "3f94f11e-6f68-49fc-98c2-5052f2b50fb0",
   "metadata": {},
   "outputs": [],
   "source": []
  }
 ],
 "metadata": {
  "kernelspec": {
   "display_name": "Python 3",
   "language": "python",
   "name": "python3"
  },
  "language_info": {
   "codemirror_mode": {
    "name": "ipython",
    "version": 3
   },
   "file_extension": ".py",
   "mimetype": "text/x-python",
   "name": "python",
   "nbconvert_exporter": "python",
   "pygments_lexer": "ipython3",
   "version": "3.8.8"
  }
 },
 "nbformat": 4,
 "nbformat_minor": 5
}
