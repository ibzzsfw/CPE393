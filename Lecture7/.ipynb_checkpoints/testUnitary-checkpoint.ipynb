{
 "cells": [
  {
   "cell_type": "code",
   "execution_count": 13,
   "id": "ae0116a7",
   "metadata": {},
   "outputs": [],
   "source": [
    "from qiskit import *"
   ]
  },
  {
   "cell_type": "code",
   "execution_count": 14,
   "id": "ed2d5655",
   "metadata": {},
   "outputs": [],
   "source": [
    "Uf[1] = [[1, 0, 0, 0],\n",
    "       [0, 0, 0, 1],\n",
    "       [0, 0, 1, 0],  \n",
    "       [0, 1, 0, 0]]"
   ]
  },
  {
   "cell_type": "code",
   "execution_count": 15,
   "id": "5ee9967c",
   "metadata": {},
   "outputs": [],
   "source": [
    "Uf[2] = [[0, 0, 1, 0],\n",
    "       [0, 1, 0, 0],\n",
    "       [1, 0, 0, 0],  \n",
    "       [0, 0, 0, 1]]"
   ]
  },
  {
   "cell_type": "code",
   "execution_count": 16,
   "id": "74dae086",
   "metadata": {},
   "outputs": [],
   "source": [
    "Uf[3] = [[1, 0, 0, 0],\n",
    "       [0, 1, 0, 0],\n",
    "       [0, 0, 1, 0],  \n",
    "       [0, 0, 0, 1]]"
   ]
  },
  {
   "cell_type": "code",
   "execution_count": 17,
   "id": "18e18958",
   "metadata": {},
   "outputs": [],
   "source": [
    "Uf[4] = [[0, 0, 1, 0],\n",
    "       [0, 0, 0, 1],\n",
    "       [1, 0, 0, 0],  \n",
    "       [0, 1, 0, 0]]"
   ]
  },
  {
   "cell_type": "code",
   "execution_count": 20,
   "id": "b4c31849",
   "metadata": {},
   "outputs": [
    {
     "data": {
      "text/html": [
       "<pre style=\"word-wrap: normal;white-space: pre;background: #fff0;line-height: 1.1;font-family: &quot;Courier New&quot;,Courier,monospace\">     ┌─────────────┐     ┌────────────────┐\n",
       "q_0: ┤ U3(0,-π,-π) ├──■──┤ U3(0,-π/2,π/2) ├\n",
       "     └─────────────┘┌─┴─┐└────────────────┘\n",
       "q_1: ───────────────┤ X ├──────────────────\n",
       "                    └───┘                  </pre>"
      ],
      "text/plain": [
       "     ┌─────────────┐     ┌────────────────┐\n",
       "q_0: ┤ U3(0,-π,-π) ├──■──┤ U3(0,-π/2,π/2) ├\n",
       "     └─────────────┘┌─┴─┐└────────────────┘\n",
       "q_1: ───────────────┤ X ├──────────────────\n",
       "                    └───┘                  "
      ]
     },
     "execution_count": 20,
     "metadata": {},
     "output_type": "execute_result"
    }
   ],
   "source": [
    "qc = QuantumCircuit(2)\n",
    "qc.unitary(Uf1, [0, 1])\n",
    "tran_qc = transpile(qc, basis_gates=['cx', 'u3'])\n",
    "tran_qc.draw()"
   ]
  },
  {
   "cell_type": "code",
   "execution_count": null,
   "id": "879d8ead",
   "metadata": {},
   "outputs": [],
   "source": []
  }
 ],
 "metadata": {
  "kernelspec": {
   "display_name": "Python 3",
   "language": "python",
   "name": "python3"
  },
  "language_info": {
   "codemirror_mode": {
    "name": "ipython",
    "version": 3
   },
   "file_extension": ".py",
   "mimetype": "text/x-python",
   "name": "python",
   "nbconvert_exporter": "python",
   "pygments_lexer": "ipython3",
   "version": "3.8.8"
  }
 },
 "nbformat": 4,
 "nbformat_minor": 5
}
