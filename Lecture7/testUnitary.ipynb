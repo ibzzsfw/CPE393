{
 "cells": [
  {
   "cell_type": "code",
   "execution_count": 21,
   "id": "3c487d34",
   "metadata": {},
   "outputs": [],
   "source": [
    "from qiskit import *"
   ]
  },
  {
   "cell_type": "code",
   "execution_count": 26,
   "id": "a6a0a038",
   "metadata": {},
   "outputs": [],
   "source": [
    "Uf1 = [[1, 0, 0, 0],\n",
    "       [0, 0, 0, 1],\n",
    "       [0, 0, 1, 0],  \n",
    "       [0, 1, 0, 0]]"
   ]
  },
  {
   "cell_type": "code",
   "execution_count": 27,
   "id": "b33e30d4",
   "metadata": {},
   "outputs": [],
   "source": [
    "Uf2 = [[0, 0, 1, 0],\n",
    "       [0, 1, 0, 0],\n",
    "       [1, 0, 0, 0],  \n",
    "       [0, 0, 0, 1]]"
   ]
  },
  {
   "cell_type": "code",
   "execution_count": 28,
   "id": "bf6cb42d",
   "metadata": {},
   "outputs": [],
   "source": [
    "Uf3 = [[1, 0, 0, 0],\n",
    "       [0, 1, 0, 0],\n",
    "       [0, 0, 1, 0],  \n",
    "       [0, 0, 0, 1]]"
   ]
  },
  {
   "cell_type": "code",
   "execution_count": 29,
   "id": "e26e0150",
   "metadata": {},
   "outputs": [],
   "source": [
    "Uf4 = [[0, 0, 1, 0],\n",
    "       [0, 0, 0, 1],\n",
    "       [1, 0, 0, 0],  \n",
    "       [0, 1, 0, 0]]"
   ]
  },
  {
   "cell_type": "code",
   "execution_count": 37,
   "id": "8f680769",
   "metadata": {},
   "outputs": [
    {
     "data": {
      "text/html": [
       "<pre style=\"word-wrap: normal;white-space: pre;background: #fff0;line-height: 1.1;font-family: &quot;Courier New&quot;,Courier,monospace\">global phase: 2.844\n",
       "     ┌─────────────────────┐     ┌───────────┐\n",
       "q_0: ┤ U(π,0.29756,-2.844) ├──■──┤ U(π,-π,0) ├\n",
       "     └─────────────────────┘┌─┴─┐└───────────┘\n",
       "q_1: ───────────────────────┤ X ├─────────────\n",
       "                            └───┘             </pre>"
      ],
      "text/plain": [
       "global phase: 2.844\n",
       "     ┌─────────────────────┐     ┌───────────┐\n",
       "q_0: ┤ U(π,0.29756,-2.844) ├──■──┤ U(π,-π,0) ├\n",
       "     └─────────────────────┘┌─┴─┐└───────────┘\n",
       "q_1: ───────────────────────┤ X ├─────────────\n",
       "                            └───┘             "
      ]
     },
     "execution_count": 37,
     "metadata": {},
     "output_type": "execute_result"
    }
   ],
   "source": [
    "qc = QuantumCircuit(2)\n",
    "qc.unitary(Uf2, [0, 1])\n",
    "tran_qc = transpile(qc, basis_gates=['cx', 'u'])\n",
    "tran_qc.draw()"
   ]
  },
  {
   "cell_type": "code",
   "execution_count": null,
   "id": "fc0e28dc",
   "metadata": {},
   "outputs": [],
   "source": []
  }
 ],
 "metadata": {
  "kernelspec": {
   "display_name": "Python 3",
   "language": "python",
   "name": "python3"
  },
  "language_info": {
   "codemirror_mode": {
    "name": "ipython",
    "version": 3
   },
   "file_extension": ".py",
   "mimetype": "text/x-python",
   "name": "python",
   "nbconvert_exporter": "python",
   "pygments_lexer": "ipython3",
   "version": "3.8.8"
  }
 },
 "nbformat": 4,
 "nbformat_minor": 5
}
