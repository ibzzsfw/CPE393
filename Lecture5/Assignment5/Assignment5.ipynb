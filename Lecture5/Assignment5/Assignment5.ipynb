{
 "cells": [
  {
   "attachments": {},
   "cell_type": "markdown",
   "id": "8aece928",
   "metadata": {},
   "source": [
    "# Assignment#5 - Lecture5: Lab2\n",
    "## Lab 2: Full-Adder Quantum Circuit "
   ]
  },
  {
   "cell_type": "code",
   "execution_count": 1,
   "id": "e2509cae",
   "metadata": {},
   "outputs": [],
   "source": [
    "import cirq\n",
    "from cirq.ops import *"
   ]
  },
  {
   "cell_type": "code",
   "execution_count": 2,
   "id": "5f32602e",
   "metadata": {},
   "outputs": [],
   "source": [
    "# q0, q1, q2 = [cirq.GridQubit(i, 0) for i in range(3)]"
   ]
  },
  {
   "cell_type": "code",
   "execution_count": 3,
   "id": "71c6e23a",
   "metadata": {},
   "outputs": [],
   "source": [
    "def OR(a, b, c):\n",
    "    yield [CNOT(a, b)]\n",
    "    yield [CNOT(a, c)]\n",
    "    yield [CCNOT(a, b, c)]"
   ]
  },
  {
   "cell_type": "code",
   "execution_count": 4,
   "id": "56541f80",
   "metadata": {},
   "outputs": [],
   "source": [
    "def XOR(a, b, s):\n",
    "    yield [CNOT(b, s)]\n",
    "    yield [CNOT(a, s)]"
   ]
  },
  {
   "cell_type": "code",
   "execution_count": 5,
   "id": "4ca1e77a",
   "metadata": {},
   "outputs": [],
   "source": [
    "def AND(a, b, c):\n",
    "    yield [CCNOT(a, b, c)]"
   ]
  },
  {
   "cell_type": "code",
   "execution_count": 6,
   "id": "172279fe",
   "metadata": {},
   "outputs": [
    {
     "name": "stdout",
     "output_type": "stream",
     "text": [
      "(0, 0): ───────@───@───\n",
      "               │   │\n",
      "(1, 0): ───@───┼───@───\n",
      "           │   │   │\n",
      "(2, 0): ───X───X───┼───\n",
      "                   │\n",
      "(3, 0): ───────────X───\n"
     ]
    }
   ],
   "source": [
    "def HA(a, b, s, c):\n",
    "    yield XOR(a, b, s)\n",
    "    yield AND(a, b, c)\n",
    "    \n",
    "q_a, q_b, q_s, q_c = [cirq.GridQubit(i, 0) for i in range(4)]\n",
    "ha = cirq.Circuit()\n",
    "ha.append(HA(q_a, q_b, q_s, q_c))\n",
    "print(ha)"
   ]
  },
  {
   "cell_type": "markdown",
   "id": "3cc5c43f",
   "metadata": {},
   "source": [
    "### Logic circuit"
   ]
  },
  {
   "cell_type": "code",
   "execution_count": 8,
   "id": "9e1ba2cf",
   "metadata": {},
   "outputs": [
    {
     "name": "stdout",
     "output_type": "stream",
     "text": [
      "           ┌──┐       ┌──┐   ┌─────────┐\n",
      "(0, 0): ──────────@────@────────────────────────────────────────\n",
      "                  │    │\n",
      "(1, 0): ────@─────┼────@────────────────────────────────────────\n",
      "            │     │    │\n",
      "(2, 0): ────┼@────┼────┼──────@─────────────────────────────────\n",
      "            ││    │    │      │\n",
      "(3, 0): ────┼X────┼────┼X─────┼M('sum')─────────────────────────\n",
      "            │     │    ││     │\n",
      "(4, 0): ────┼─────┼────┼┼─────┼────────────X───M('carry out')───\n",
      "            │     │    ││     │            │\n",
      "(5, 0): ────X─────X────┼@─────@────────────┼────────────────────\n",
      "                       │      │            │\n",
      "(6, 0): ───────────────X──────┼────────────@────────────────────\n",
      "                              │            │\n",
      "(7, 0): ──────────────────────X────────────@────────────────────\n",
      "           └──┘       └──┘   └─────────┘\n"
     ]
    }
   ],
   "source": [
    "def FA(a, b, x, s, c, s1, c1, c2):\n",
    "    yield HA(a, b, s1, c1)\n",
    "    yield HA(s1, x, s, c2)\n",
    "    yield AND(c1, c2, c)\n",
    "\n",
    "a = cirq.GridQubit(0, 0)\n",
    "b = cirq.GridQubit(1, 0)\n",
    "x = cirq.GridQubit(2, 0)\n",
    "\n",
    "s, c, s1, c1, c2 = [cirq.GridQubit(i, 0) for i in range(3, 8)]\n",
    "ms = [measure(s, key='sum')]\n",
    "mc = [measure(c, key='carry out')]\n",
    "fullAdder = cirq.Circuit(FA(a, b, x, s, c, s1, c1, c2), ms, mc)\n",
    "print(fullAdder)"
   ]
  },
  {
   "cell_type": "markdown",
   "id": "9694ac1c",
   "metadata": {},
   "source": [
    "### K-map"
   ]
  },
  {
   "cell_type": "code",
   "execution_count": 9,
   "id": "2a5631c4",
   "metadata": {},
   "outputs": [],
   "source": [
    "def FA(a, b, s, c_in, c_out, d, e, f, g, h):\n",
    "    # s\n",
    "    yield [XOR(a, b, d)]\n",
    "    yield [XOR(d, c_in, s)]\n",
    "    # c_out\n",
    "    yield [AND(a, c_in, e)]\n",
    "    yield [AND(b, c_in, f)]\n",
    "    yield [AND(a, b, g)]\n",
    "    \n",
    "    yield [OR(e, f, h)]\n",
    "    yield [OR(g, h, c_out)]"
   ]
  },
  {
   "cell_type": "code",
   "execution_count": 10,
   "id": "58569928",
   "metadata": {},
   "outputs": [
    {
     "name": "stdout",
     "output_type": "stream",
     "text": [
      "           ┌──┐       ┌──┐   ┌─────────┐   ┌──┐\n",
      "(0, 0): ──────────@─────@───────────────────@──────────────────────────────────────────\n",
      "                  │     │                   │\n",
      "(1, 0): ────@─────┼─────┼─────@─────────────@──────────────────────────────────────────\n",
      "            │     │     │     │             │\n",
      "(2, 0): ────┼X────┼────X┼─────┼M('sum')─────┼──────────────────────────────────────────\n",
      "            ││    │    ││     │             │\n",
      "(3, 0): ────┼@────┼────┼@─────@─────────────┼──────────────────────────────────────────\n",
      "            │     │    ││     │             │\n",
      "(4, 0): ────┼─────┼────┼┼─────┼─────────────┼─────────────────X───X───M('carry out')───\n",
      "            │     │    ││     │             │                 │   │\n",
      "(5, 0): ────X─────X────@┼─────┼─────────────┼─────────────────┼───┼────────────────────\n",
      "                        │     │             │                 │   │\n",
      "(6, 0): ────────────────X─────┼─────────────┼@────@───@───────┼───┼────────────────────\n",
      "                              │             ││    │   │       │   │\n",
      "(7, 0): ──────────────────────X─────────────┼X────┼───@───────┼───┼────────────────────\n",
      "                                            │     │   │       │   │\n",
      "(8, 0): ────────────────────────────────────X─────┼───┼───@───@───@────────────────────\n",
      "                                                  │   │   │       │\n",
      "(9, 0): ──────────────────────────────────────────X───X───X───────@────────────────────\n",
      "           └──┘       └──┘   └─────────┘   └──┘\n"
     ]
    }
   ],
   "source": [
    "a, b, s, c_in, c_out, d, e, f, g, h = [cirq.GridQubit(i, 0) for i in range(10)]\n",
    "a = cirq.GridQubit(0, 0)\n",
    "ms = [measure(s, key='sum')]\n",
    "mc = [measure(c_out, key='carry out')]\n",
    "fa = cirq.Circuit(FA(a, b, s, c_in, c_out, d, e, f, g, h), ms, mc)\n",
    "print(fa)"
   ]
  }
 ],
 "metadata": {
  "kernelspec": {
   "display_name": "Python 3",
   "language": "python",
   "name": "python3"
  },
  "language_info": {
   "codemirror_mode": {
    "name": "ipython",
    "version": 3
   },
   "file_extension": ".py",
   "mimetype": "text/x-python",
   "name": "python",
   "nbconvert_exporter": "python",
   "pygments_lexer": "ipython3",
   "version": "3.8.8"
  }
 },
 "nbformat": 4,
 "nbformat_minor": 5
}
