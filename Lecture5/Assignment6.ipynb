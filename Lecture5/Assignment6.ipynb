{
 "cells": [
  {
   "cell_type": "markdown",
   "id": "a580c308",
   "metadata": {
    "slideshow": {
     "slide_type": "-"
    }
   },
   "source": [
    "# Assignment 6\n",
    "SUPPAKORN RAKNA (63070501061)\n",
    "\n",
    "### Build the circuits in *Cirq* to generate all possible Bell state"
   ]
  },
  {
   "cell_type": "code",
   "execution_count": 1,
   "id": "0aff4763",
   "metadata": {},
   "outputs": [],
   "source": [
    "import cirq\n",
    "from cirq.ops import *\n",
    "from cirq.circuits import InsertStrategy\n",
    "import matplotlib.pyplot as plt"
   ]
  },
  {
   "cell_type": "code",
   "execution_count": 2,
   "id": "cc4be162",
   "metadata": {},
   "outputs": [],
   "source": [
    "thick_label = [bin(x)[2:].zfill(2) for x in range(2 ** 2)]"
   ]
  },
  {
   "attachments": {},
   "cell_type": "markdown",
   "id": "591950f8",
   "metadata": {},
   "source": [
    "#### Bell states or sometimes the EPR states or EPR pairs\n",
    "Consider a circuit, which has a Hadamard gate followed by a CNOT gate, and transforms the four computational basis states\n",
    ">- first, the Hadamard gate puts the top qubit in a superposition\n",
    ">- then acts as a control input to the CNOT , and the target gets inverted only when the control is 1 \n",
    "\n",
    "#### The general form of Bell State $|\\beta_{xy}\\rangle=\\frac{|0,y\\rangle+(-1)^x|1,\\bar{y}\\rangle}{\\sqrt2}$\n",
    "> The $x$ and $y$ are called phase bit and parity bit and $\\bar{y}$ is the negation of $y$."
   ]
  },
  {
   "cell_type": "markdown",
   "id": "244b7acd",
   "metadata": {},
   "source": [
    "- $\\frac{|00\\rangle+|11\\rangle}{\\sqrt2}\\equiv|\\beta_{00}\\rangle\\equiv|\\Phi^+\\rangle$"
   ]
  },
  {
   "cell_type": "code",
   "execution_count": 3,
   "id": "46d8b300",
   "metadata": {},
   "outputs": [],
   "source": [
    "q0 = cirq.NamedQubit('control')\n",
    "q1 = cirq.NamedQubit('target')"
   ]
  },
  {
   "cell_type": "code",
   "execution_count": 4,
   "id": "6b82b14a",
   "metadata": {},
   "outputs": [],
   "source": [
    "phi_positive = cirq.Circuit([H(q0), CNOT(q0, q1)])\n",
    "vector = cirq.Simulator().simulate(phi_positive)"
   ]
  },
  {
   "cell_type": "code",
   "execution_count": 5,
   "id": "f6a06313",
   "metadata": {},
   "outputs": [],
   "source": [
    "phi_positive.append(cirq.measure(q0, q1, key='result'))\n",
    "histogram = cirq.Simulator().run(phi_positive, repetitions=1000)"
   ]
  },
  {
   "cell_type": "code",
   "execution_count": 6,
   "id": "05337cce",
   "metadata": {},
   "outputs": [
    {
     "name": "stdout",
     "output_type": "stream",
     "text": [
      "Sample the circuit:\n",
      "\n",
      "control: ───H───@───M('result')───\n",
      "                │   │\n",
      "target: ────────X───M─────────────\n",
      "\n",
      "measurements: (no measurements)\n",
      "output vector: 0.707|00⟩ + 0.707|11⟩\n"
     ]
    },
    {
     "data": {
      "image/png": "[encoded data removed]",
      "text/plain": [
       "<Figure size 432x288 with 1 Axes>"
      ]
     },
     "metadata": {
      "needs_background": "light"
     },
     "output_type": "display_data"
    }
   ],
   "source": [
    "print('Sample the circuit:\\n')\n",
    "print(phi_positive)\n",
    "print()\n",
    "print(vector)\n",
    "_ = cirq.vis.plot_state_histogram(histogram, plt.subplot(), title = 'phi+', xlabel = 'qubit state', ylabel = 'count', tick_label=thick_label)"
   ]
  },
  {
   "cell_type": "markdown",
   "id": "2966cde8",
   "metadata": {},
   "source": [
    "- $\\frac{|00\\rangle-|11\\rangle}{\\sqrt2}\\equiv|\\beta_{10}\\rangle\\equiv|\\Phi^-\\rangle$"
   ]
  },
  {
   "cell_type": "code",
   "execution_count": 7,
   "id": "b1874659",
   "metadata": {},
   "outputs": [],
   "source": [
    "q0 = cirq.NamedQubit('control')\n",
    "q1 = cirq.NamedQubit('target')"
   ]
  },
  {
   "cell_type": "code",
   "execution_count": 8,
   "id": "a9d9262c",
   "metadata": {},
   "outputs": [],
   "source": [
    "phi_negative = cirq.Circuit([X(q0), H(q0), CNOT(q0, q1)])\n",
    "vector = cirq.Simulator().simulate(phi_negative)"
   ]
  },
  {
   "cell_type": "code",
   "execution_count": 9,
   "id": "9d26cd86",
   "metadata": {},
   "outputs": [],
   "source": [
    "phi_negative.append(cirq.measure(q0, q1, key='result'))\n",
    "histogram = cirq.Simulator().run(phi_negative, repetitions=1000)"
   ]
  },
  {
   "cell_type": "code",
   "execution_count": 10,
   "id": "37575f2e",
   "metadata": {
    "scrolled": false
   },
   "outputs": [
    {
     "name": "stdout",
     "output_type": "stream",
     "text": [
      "Sample the circuit:\n",
      "\n",
      "control: ───X───H───@───M('result')───\n",
      "                    │   │\n",
      "target: ────────────X───M─────────────\n",
      "\n",
      "measurements: (no measurements)\n",
      "output vector: 0.707|00⟩ - 0.707|11⟩\n"
     ]
    },
    {
     "data": {
      "image/png": "[encoded data removed]",
      "text/plain": [
       "<Figure size 432x288 with 1 Axes>"
      ]
     },
     "metadata": {
      "needs_background": "light"
     },
     "output_type": "display_data"
    }
   ],
   "source": [
    "print('Sample the circuit:\\n')\n",
    "print(phi_negative)\n",
    "print()\n",
    "print(vector)\n",
    "_ = cirq.vis.plot_state_histogram(histogram, plt.subplot(), title = 'phi-', xlabel = 'qubit state', ylabel = 'count', tick_label=thick_label)"
   ]
  },
  {
   "cell_type": "markdown",
   "id": "ba466b1d",
   "metadata": {},
   "source": [
    "- $\\frac{|01\\rangle+|10\\rangle}{\\sqrt2}\\equiv|\\beta_{01}\\rangle\\equiv|\\Psi^+\\rangle$"
   ]
  },
  {
   "cell_type": "code",
   "execution_count": 11,
   "id": "3a662788",
   "metadata": {},
   "outputs": [],
   "source": [
    "q0 = cirq.NamedQubit('control')\n",
    "q1 = cirq.NamedQubit('target')"
   ]
  },
  {
   "cell_type": "code",
   "execution_count": 12,
   "id": "604dc7b7",
   "metadata": {},
   "outputs": [],
   "source": [
    "psi_positive = cirq.Circuit([X(q1)])\n",
    "psi_positive.append([H(q0), CNOT(q0, q1)], strategy=InsertStrategy.NEW_THEN_INLINE)\n",
    "vector = cirq.Simulator().simulate(psi_positive)"
   ]
  },
  {
   "cell_type": "code",
   "execution_count": 13,
   "id": "84a6c336",
   "metadata": {},
   "outputs": [],
   "source": [
    "psi_positive.append(cirq.measure(q0, q1, key='result'))\n",
    "histogram = cirq.Simulator().run(psi_positive, repetitions=1000)"
   ]
  },
  {
   "cell_type": "code",
   "execution_count": 14,
   "id": "476fded4",
   "metadata": {},
   "outputs": [
    {
     "name": "stdout",
     "output_type": "stream",
     "text": [
      "Sample the circuit:\n",
      "\n",
      "control: ───────H───@───M('result')───\n",
      "                    │   │\n",
      "target: ────X───────X───M─────────────\n",
      "\n",
      "measurements: (no measurements)\n",
      "output vector: 0.707|01⟩ + 0.707|10⟩\n"
     ]
    },
    {
     "data": {
      "image/png": "[encoded data removed]",
      "text/plain": [
       "<Figure size 432x288 with 1 Axes>"
      ]
     },
     "metadata": {
      "needs_background": "light"
     },
     "output_type": "display_data"
    }
   ],
   "source": [
    "print('Sample the circuit:\\n')\n",
    "print(psi_positive)\n",
    "print()\n",
    "print(vector)\n",
    "_ = cirq.vis.plot_state_histogram(histogram, plt.subplot(), title = 'psi+', xlabel = 'qubit state', ylabel = 'count', tick_label=thick_label)"
   ]
  },
  {
   "cell_type": "markdown",
   "id": "75c978ca",
   "metadata": {},
   "source": [
    "- $\\frac{|01\\rangle-|10\\rangle}{\\sqrt2}\\equiv|\\beta_{11}\\rangle\\equiv|\\Psi^-\\rangle$"
   ]
  },
  {
   "cell_type": "code",
   "execution_count": 15,
   "id": "9e365199",
   "metadata": {},
   "outputs": [],
   "source": [
    "q0 = cirq.NamedQubit('control')\n",
    "q1 = cirq.NamedQubit('target')"
   ]
  },
  {
   "cell_type": "code",
   "execution_count": 16,
   "id": "051d9ce8",
   "metadata": {},
   "outputs": [],
   "source": [
    "psi_negative = cirq.Circuit([X(q0), X(q1), H(q0), CNOT(q0,q1)])\n",
    "vector = cirq.Simulator().simulate(psi_negative)"
   ]
  },
  {
   "cell_type": "code",
   "execution_count": 17,
   "id": "ccb80cd6",
   "metadata": {},
   "outputs": [],
   "source": [
    "psi_negative.append(cirq.measure(q0, q1, key='result'))\n",
    "histogram = cirq.Simulator().run(psi_negative, repetitions=1000)"
   ]
  },
  {
   "cell_type": "code",
   "execution_count": 18,
   "id": "7ffca2c1",
   "metadata": {},
   "outputs": [
    {
     "name": "stdout",
     "output_type": "stream",
     "text": [
      "Sample the circuit:\n",
      "\n",
      "control: ───X───H───@───M('result')───\n",
      "                    │   │\n",
      "target: ────X───────X───M─────────────\n",
      "\n",
      "measurements: (no measurements)\n",
      "output vector: 0.707|01⟩ - 0.707|10⟩\n"
     ]
    },
    {
     "data": {
      "image/png": "[encoded data removed]",
      "text/plain": [
       "<Figure size 432x288 with 1 Axes>"
      ]
     },
     "metadata": {
      "needs_background": "light"
     },
     "output_type": "display_data"
    }
   ],
   "source": [
    "print('Sample the circuit:\\n')\n",
    "print(psi_negative)\n",
    "print()\n",
    "print(vector)\n",
    "_ = cirq.vis.plot_state_histogram(histogram, plt.subplot(), title = 'psi-', xlabel = 'qubit state', ylabel = 'count', tick_label=thick_label)"
   ]
  }
 ],
 "metadata": {
  "kernelspec": {
   "display_name": "Python 3",
   "language": "python",
   "name": "python3"
  },
  "language_info": {
   "codemirror_mode": {
    "name": "ipython",
    "version": 3
   },
   "file_extension": ".py",
   "mimetype": "text/x-python",
   "name": "python",
   "nbconvert_exporter": "python",
   "pygments_lexer": "ipython3",
   "version": "3.8.8"
  }
 },
 "nbformat": 4,
 "nbformat_minor": 5
}
