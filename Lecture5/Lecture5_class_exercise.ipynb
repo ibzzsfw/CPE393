{
 "cells": [
  {
   "cell_type": "markdown",
   "id": "3b473bce-bdf0-410e-8fb6-5359f1463031",
   "metadata": {},
   "source": [
    "## Exercise 1"
   ]
  },
  {
   "cell_type": "code",
   "execution_count": 1,
   "id": "db45eadf-7998-4ad7-b0b5-acbcdfce127b",
   "metadata": {},
   "outputs": [],
   "source": [
    "from pyquil import Program\n",
    "from pyquil.gates import *\n",
    "from pyquil import get_qc"
   ]
  },
  {
   "cell_type": "code",
   "execution_count": 2,
   "id": "c1d50b62-8085-49ba-8893-f3589a4e8e86",
   "metadata": {},
   "outputs": [
    {
     "name": "stdout",
     "output_type": "stream",
     "text": [
      "X 0\n",
      "CNOT 0 1\n",
      "DECLARE ro BIT[2]\n",
      "MEASURE 0 ro[0]\n",
      "MEASURE 1 ro[1]\n",
      "\n"
     ]
    }
   ],
   "source": [
    "p = Program()\n",
    "p += X(0)\n",
    "p += CNOT(0,1)\n",
    "ro = p.declare('ro','BIT',2)\n",
    "p += MEASURE(0, ro[0])\n",
    "p += MEASURE(1, ro[1])\n",
    "print(p)"
   ]
  },
  {
   "cell_type": "code",
   "execution_count": 3,
   "id": "a89b7661-d99e-4ce5-99d5-b5b7dfdb7ca4",
   "metadata": {},
   "outputs": [
    {
     "name": "stdout",
     "output_type": "stream",
     "text": [
      "QAMExecutionResult(executable=<pyquil.quil.Program object at 0x7fc2704b4d90>, readout_data={'ro': array([[1, 1]])})\n"
     ]
    }
   ],
   "source": [
    "qc = get_qc('5q-qvm')\n",
    "exe = qc.compile(p)\n",
    "result = qc.run(exe)\n",
    "print(result)"
   ]
  },
  {
   "cell_type": "code",
   "execution_count": 4,
   "id": "2d25fb22-3096-4d69-b950-7807916783db",
   "metadata": {},
   "outputs": [
    {
     "data": {
      "text/plain": [
       "array([[1, 1]])"
      ]
     },
     "execution_count": 4,
     "metadata": {},
     "output_type": "execute_result"
    }
   ],
   "source": [
    "result.readout_data['ro']"
   ]
  },
  {
   "cell_type": "markdown",
   "id": "d10121bf-3949-4420-a67a-bf8f89dd0ee7",
   "metadata": {},
   "source": [
    "## import cirq "
   ]
  },
  {
   "cell_type": "code",
   "execution_count": 5,
   "id": "ddd95c5d-32c4-4015-a1eb-29acee780557",
   "metadata": {},
   "outputs": [],
   "source": [
    "import cirq"
   ]
  },
  {
   "cell_type": "code",
   "execution_count": 6,
   "id": "4a8b4005-9405-4216-85e8-8db9d486160c",
   "metadata": {},
   "outputs": [
    {
     "name": "stdout",
     "output_type": "stream",
     "text": [
      "(0, 0): ───X───@───M───\n",
      "               │   │\n",
      "(0, 1): ───────X───M───\n"
     ]
    }
   ],
   "source": [
    "q0 = cirq.GridQubit(0,0)\n",
    "q1 = cirq.GridQubit(0,1)\n",
    "\n",
    "m0 = cirq.X(q0)\n",
    "m1 = cirq.CNOT(q0,q1)\n",
    "m2 = cirq.measure(q0,q1)\n",
    "\n",
    "cir = cirq.Circuit()\n",
    "\n",
    "cir.append(m0)\n",
    "cir.append(m1)\n",
    "cir.append(m2)\n",
    "\n",
    "print(cir)"
   ]
  },
  {
   "cell_type": "code",
   "execution_count": 7,
   "id": "88699188-e96d-4269-a1cd-2956ef36775a",
   "metadata": {},
   "outputs": [
    {
     "name": "stdout",
     "output_type": "stream",
     "text": [
      "(0, 0),(0, 1)=1111111111, 1111111111\n"
     ]
    }
   ],
   "source": [
    "sim = cirq.Simulator()\n",
    "result = sim.run(cir,repetitions=10)\n",
    "\n",
    "print(result)"
   ]
  },
  {
   "cell_type": "code",
   "execution_count": null,
   "id": "5ae30a69-f518-4fe6-8d12-85ce92cea39f",
   "metadata": {},
   "outputs": [],
   "source": []
  }
 ],
 "metadata": {
  "kernelspec": {
   "display_name": "Python 3 (ipykernel)",
   "language": "python",
   "name": "python3"
  },
  "language_info": {
   "codemirror_mode": {
    "name": "ipython",
    "version": 3
   },
   "file_extension": ".py",
   "mimetype": "text/x-python",
   "name": "python",
   "nbconvert_exporter": "python",
   "pygments_lexer": "ipython3",
   "version": "3.9.7"
  }
 },
 "nbformat": 4,
 "nbformat_minor": 5
}
