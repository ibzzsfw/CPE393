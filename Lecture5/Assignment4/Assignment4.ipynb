{
 "cells": [
  {
   "attachments": {},
   "cell_type": "markdown",
   "id": "d527b9bc",
   "metadata": {},
   "source": [
    "# Assignment#4 - Lecture5: Lab1\n",
    "## Lab 1: Intro to Cirq \u000b",
    "Programming\n",
    "Build a 3 qubits of Quantum circuit that target qubit of CCNOT can be only 1 with 16 trials.\n",
    "##### Hint: Construct quantum circuit with following quantum gate : X, CCNOT"
   ]
  },
  {
   "cell_type": "code",
   "execution_count": 8,
   "id": "fee92b80",
   "metadata": {},
   "outputs": [],
   "source": [
    "import cirq"
   ]
  },
  {
   "cell_type": "code",
   "execution_count": 9,
   "id": "7aaaef84",
   "metadata": {},
   "outputs": [],
   "source": [
    "q0, q1, q2 = [cirq.GridQubit(i, 0) for i in range(3)]"
   ]
  },
  {
   "cell_type": "code",
   "execution_count": 10,
   "id": "6f55fd33",
   "metadata": {},
   "outputs": [
    {
     "name": "stdout",
     "output_type": "stream",
     "text": [
      "(0, 0): ───X───@─────────────────\n",
      "               │\n",
      "(1, 0): ───X───@─────────────────\n",
      "               │\n",
      "(2, 0): ───────X───M('target')───\n"
     ]
    }
   ],
   "source": [
    "x0 = [X(q) for q in (q0, q1)]\n",
    "ccx = [CCX(q0, q1, q2)]\n",
    "m = [measure(q2, key='target')]\n",
    "\n",
    "circuit = cirq.Circuit(x0, ccx, m)\n",
    "\n",
    "print(circuit)"
   ]
  },
  {
   "cell_type": "code",
   "execution_count": 11,
   "id": "041d2d5e",
   "metadata": {},
   "outputs": [
    {
     "name": "stdout",
     "output_type": "stream",
     "text": [
      "target=1111111111111111\n"
     ]
    }
   ],
   "source": [
    "from cirq import Simulator\n",
    "simulator = Simulator()\n",
    "result = simulator.run(circuit, repetitions=16)\n",
    "\n",
    "print(result) "
   ]
  }
 ],
 "metadata": {
  "kernelspec": {
   "display_name": "Python 3",
   "language": "python",
   "name": "python3"
  },
  "language_info": {
   "codemirror_mode": {
    "name": "ipython",
    "version": 3
   },
   "file_extension": ".py",
   "mimetype": "text/x-python",
   "name": "python",
   "nbconvert_exporter": "python",
   "pygments_lexer": "ipython3",
   "version": "3.8.8"
  }
 },
 "nbformat": 4,
 "nbformat_minor": 5
}
