{
 "cells": [
  {
   "cell_type": "markdown",
   "id": "3074bc68-7425-46b2-b8f3-88ea90a47ad7",
   "metadata": {},
   "source": [
    "## exercise 3"
   ]
  },
  {
   "cell_type": "code",
   "execution_count": 1,
   "id": "0f426b18-052c-46d5-a385-69635762756f",
   "metadata": {},
   "outputs": [],
   "source": [
    "from qiskit import QuantumRegister, ClassicalRegister, QuantumCircuit, execute, Aer, IBMQ\n",
    "from qiskit.visualization import *"
   ]
  },
  {
   "cell_type": "code",
   "execution_count": 2,
   "id": "cd7a8446-11c5-4305-bf3d-523e8a907427",
   "metadata": {},
   "outputs": [
    {
     "data": {
      "text/html": [
       "<pre style=\"word-wrap: normal;white-space: pre;background: #fff0;line-height: 1.1;font-family: &quot;Courier New&quot;,Courier,monospace\">      ┌───┐     ┌─┐   \n",
       "q0_0: ┤ H ├──■──┤M├───\n",
       "      └───┘┌─┴─┐└╥┘┌─┐\n",
       "q0_1: ─────┤ X ├─╫─┤M├\n",
       "           └───┘ ║ └╥┘\n",
       "c0: 2/═══════════╩══╩═\n",
       "                 0  1 </pre>"
      ],
      "text/plain": [
       "      ┌───┐     ┌─┐   \n",
       "q0_0: ┤ H ├──■──┤M├───\n",
       "      └───┘┌─┴─┐└╥┘┌─┐\n",
       "q0_1: ─────┤ X ├─╫─┤M├\n",
       "           └───┘ ║ └╥┘\n",
       "c0: 2/═══════════╩══╩═\n",
       "                 0  1 "
      ]
     },
     "execution_count": 2,
     "metadata": {},
     "output_type": "execute_result"
    }
   ],
   "source": [
    "q = QuantumRegister(2)\n",
    "c = ClassicalRegister(2)\n",
    "qc = QuantumCircuit(q,c)\n",
    "\n",
    "qc.h(q[0])\n",
    "qc.cx(q[0],q[1])\n",
    "qc.measure(q[0],c[0])\n",
    "qc.measure(q[1],c[1])\n",
    "           \n",
    "qc.draw()"
   ]
  },
  {
   "cell_type": "markdown",
   "id": "fab18b8b-11dd-4e20-b1ee-7cdfaa5a478e",
   "metadata": {},
   "source": [
    "## Simulate Bell State Circuit"
   ]
  },
  {
   "cell_type": "code",
   "execution_count": 8,
   "id": "ba755a38-f913-4b59-9df5-0db7b864222d",
   "metadata": {},
   "outputs": [],
   "source": [
    "backend = Aer.get_backend('qasm_simulator')\n",
    "job = execute(qc,backend,shots=1000)\n",
    "result = job.result()\n",
    "count = result.get_counts()"
   ]
  },
  {
   "cell_type": "code",
   "execution_count": 10,
   "id": "0e4d26b3-b3cc-4ef1-ae74-dfca56400b83",
   "metadata": {},
   "outputs": [
    {
     "name": "stdout",
     "output_type": "stream",
     "text": [
      "{'00': 489, '11': 511}\n"
     ]
    }
   ],
   "source": [
    "print(count)"
   ]
  },
  {
   "cell_type": "code",
   "execution_count": 11,
   "id": "1e718e64-7f39-489d-9f87-b1885cefd86f",
   "metadata": {},
   "outputs": [
    {
     "data": {
      "image/png": "[encoded data removed]",
      "text/plain": [
       "<Figure size 504x360 with 1 Axes>"
      ]
     },
     "execution_count": 11,
     "metadata": {},
     "output_type": "execute_result"
    }
   ],
   "source": [
    "plot_histogram(count)"
   ]
  },
  {
   "cell_type": "code",
   "execution_count": null,
   "id": "2c9b0c12-61c5-4e7a-907e-d6c3e7d8e460",
   "metadata": {},
   "outputs": [],
   "source": [
    "IBMQ.save_account('57f6aeded1f8cc67c5c2c88473942c33b8559a3fc2523d4c992a22db008a001d23a6c036a16f051d4251614f25a10141015e677baf41fbfe1893280ba944addf')"
   ]
  },
  {
   "cell_type": "code",
   "execution_count": null,
   "id": "fe4bc163",
   "metadata": {},
   "outputs": [],
   "source": [
    "from qiskit.providers.ibmq import least_busy\n",
    "\n",
    "IBMQ.load_account()\n",
    "provider = IBMQ.get_provider(group='open')\n",
    "backend_lb = least_busy(provider.backends(simulator=False, operational=True))\n",
    "print(\"LB backend: \", backend_lb)"
   ]
  },
  {
   "cell_type": "code",
   "execution_count": null,
   "id": "bdb1411e",
   "metadata": {},
   "outputs": [],
   "source": [
    "from qiskit.tools.monitor import job_monitor\n",
    "\n",
    "backend = backend_lb\n",
    "shots = 1024\n",
    "job_exp = execute(qc, backend=backend, shots=shots)\n",
    "job_monitor(job_exp, interval = 2)\n",
    "\n",
    "results = job_exp.results()\n",
    "count_dev = results.get_counts(qc)\n",
    "plot_histogram(count_dev)"
   ]
  }
 ],
 "metadata": {
  "kernelspec": {
   "display_name": "Python 3",
   "language": "python",
   "name": "python3"
  },
  "language_info": {
   "codemirror_mode": {
    "name": "ipython",
    "version": 3
   },
   "file_extension": ".py",
   "mimetype": "text/x-python",
   "name": "python",
   "nbconvert_exporter": "python",
   "pygments_lexer": "ipython3",
   "version": "3.8.8"
  }
 },
 "nbformat": 4,
 "nbformat_minor": 5
}
