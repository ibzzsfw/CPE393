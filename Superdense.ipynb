{
 "cells": [
  {
   "cell_type": "markdown",
   "id": "77297381",
   "metadata": {},
   "source": [
    "# Question #3 : The Beauty of Superdense\n",
    "-   **Write** the python code with IBM Qiskit library to build the quantum circuits, applying with another Bell-pair.\n",
    "-   Create `.ipynb` file for this question. Don’t forget to **note** the condition protocol in the code and also **show** the circuit.\n",
    "\n",
    "#### 63070501061\n",
    "### use $|\\Psi^+\\rangle$ Bell-pair"
   ]
  },
  {
   "cell_type": "code",
   "execution_count": 10,
   "id": "3dcebd99",
   "metadata": {},
   "outputs": [],
   "source": [
    "from qiskit import *"
   ]
  },
  {
   "cell_type": "markdown",
   "id": "03be20eb",
   "metadata": {},
   "source": [
    "**First**, Entangling Alice and Bob using $|\\Psi^+\\rangle$ state"
   ]
  },
  {
   "cell_type": "code",
   "execution_count": 26,
   "id": "22d86793",
   "metadata": {},
   "outputs": [],
   "source": [
    "def entangle():\n",
    "    \n",
    "    qc = QuantumCircuit(2)\n",
    "    qc.x(0)\n",
    "    qc.h(1)\n",
    "    qc.cx(1, 0)\n",
    "    return qc"
   ]
  },
  {
   "cell_type": "markdown",
   "id": "f76b2ab4",
   "metadata": {},
   "source": [
    "**Next**, encode message. four possible messages could send: 00, 10, 01 or 11. applies the appropriate gates follows\n",
    "\n",
    "| Message | Applied Gate |\n",
    "|--|--|\n",
    "| 00 | $I$ |\n",
    "| 01 | $X$ |\n",
    "| 10 | $Z$ |\n",
    "| 11 | $ZX$ |\n",
    "> No matter what Bell state we should, it's only use for entangle not for action to message"
   ]
  },
  {
   "cell_type": "code",
   "execution_count": 27,
   "id": "9cdda4c9",
   "metadata": {},
   "outputs": [],
   "source": [
    "def encode(qc, qubit, qm):\n",
    "    if qm[1] == \"1\":\n",
    "        qc.x(qubit)\n",
    "    if qm[0] == \"1\":\n",
    "        qc.z(qubit)\n",
    "    return qc"
   ]
  },
  {
   "cell_type": "markdown",
   "id": "e97b19a8",
   "metadata": {},
   "source": [
    "**Last**, Bob applies the recovery protocol by reverse order of Bell circuit in **first** step"
   ]
  },
  {
   "cell_type": "code",
   "execution_count": 28,
   "id": "d60bb14b",
   "metadata": {},
   "outputs": [],
   "source": [
    "def decode(qc):\n",
    "    qc.cx(1, 0)\n",
    "    qc.h(1)\n",
    "    qc.x(0)\n",
    "    return qc"
   ]
  },
  {
   "cell_type": "code",
   "execution_count": 29,
   "id": "1e11841f",
   "metadata": {},
   "outputs": [
    {
     "data": {
      "text/html": [
       "<pre style=\"word-wrap: normal;white-space: pre;background: #fff0;line-height: 1.1;font-family: &quot;Courier New&quot;,Courier,monospace\">        ┌───┐┌───┐ ░            ░ ┌───┐┌───┐ ░ ┌─┐   \n",
       "   q_0: ┤ X ├┤ X ├─░────────────░─┤ X ├┤ X ├─░─┤M├───\n",
       "        ├───┤└─┬─┘ ░ ┌───┐┌───┐ ░ └─┬─┘├───┤ ░ └╥┘┌─┐\n",
       "   q_1: ┤ H ├──■───░─┤ X ├┤ Z ├─░───■──┤ H ├─░──╫─┤M├\n",
       "        └───┘      ░ └───┘└───┘ ░      └───┘ ░  ║ └╥┘\n",
       "meas: 2/════════════════════════════════════════╩══╩═\n",
       "                                                0  1 </pre>"
      ],
      "text/plain": [
       "        ┌───┐┌───┐ ░            ░ ┌───┐┌───┐ ░ ┌─┐   \n",
       "   q_0: ┤ X ├┤ X ├─░────────────░─┤ X ├┤ X ├─░─┤M├───\n",
       "        ├───┤└─┬─┘ ░ ┌───┐┌───┐ ░ └─┬─┘├───┤ ░ └╥┘┌─┐\n",
       "   q_1: ┤ H ├──■───░─┤ X ├┤ Z ├─░───■──┤ H ├─░──╫─┤M├\n",
       "        └───┘      ░ └───┘└───┘ ░      └───┘ ░  ║ └╥┘\n",
       "meas: 2/════════════════════════════════════════╩══╩═\n",
       "                                                0  1 "
      ]
     },
     "execution_count": 29,
     "metadata": {},
     "output_type": "execute_result"
    }
   ],
   "source": [
    "sdc = entangle()\n",
    "\n",
    "sdc.barrier()\n",
    "\n",
    "message = '11'\n",
    "sdc = encode(sdc, 1, message)\n",
    "\n",
    "sdc.barrier()\n",
    "\n",
    "sdc = decode(sdc)\n",
    "\n",
    "sdc.measure_all()\n",
    "\n",
    "sdc.draw()"
   ]
  },
  {
   "cell_type": "code",
   "execution_count": 30,
   "id": "75f2891a",
   "metadata": {},
   "outputs": [
    {
     "name": "stdout",
     "output_type": "stream",
     "text": [
      "Alice: 11 Bob: {'11': 1024}\n"
     ]
    }
   ],
   "source": [
    "aer_sim = Aer.get_backend('aer_simulator')\n",
    "qobj = assemble(sdc)\n",
    "result = aer_sim.run(qobj).result()\n",
    "counts = result.get_counts(sdc)\n",
    "print('Alice:', message, 'Bob:', counts)"
   ]
  },
  {
   "cell_type": "code",
   "execution_count": null,
   "id": "cd2f247b",
   "metadata": {},
   "outputs": [],
   "source": []
  },
  {
   "cell_type": "code",
   "execution_count": null,
   "id": "0fcfe7ee",
   "metadata": {},
   "outputs": [],
   "source": []
  }
 ],
 "metadata": {
  "kernelspec": {
   "display_name": "Python 3",
   "language": "python",
   "name": "python3"
  },
  "language_info": {
   "codemirror_mode": {
    "name": "ipython",
    "version": 3
   },
   "file_extension": ".py",
   "mimetype": "text/x-python",
   "name": "python",
   "nbconvert_exporter": "python",
   "pygments_lexer": "ipython3",
   "version": "3.8.8"
  }
 },
 "nbformat": 4,
 "nbformat_minor": 5
}
